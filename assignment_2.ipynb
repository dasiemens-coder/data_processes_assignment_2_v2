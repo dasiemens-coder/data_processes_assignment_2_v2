{
 "cells": [
  {
   "cell_type": "markdown",
   "metadata": {},
   "source": [
    "# Assignment 2"
   ]
  },
  {
   "cell_type": "code",
   "execution_count": null,
   "metadata": {},
   "outputs": [],
   "source": [
    "import pandas as pd\n",
    "import seaborn as sns\n",
    "import matplotlib.pyplot as plt\n",
    "\n",
    "from fuzzywuzzy import fuzz"
   ]
  },
  {
   "cell_type": "code",
   "execution_count": null,
   "metadata": {},
   "outputs": [],
   "source": [
    "hospital1 = pd.read_excel('./hospital1.xlsx', index_col=None)\n",
    "hospital1.head()"
   ]
  },
  {
   "cell_type": "code",
   "execution_count": null,
   "metadata": {},
   "outputs": [],
   "source": [
    "hospital2 = pd.read_excel('./hospital2.xlsx', index_col=None)\n",
    "hospital2.head()"
   ]
  },
  {
   "cell_type": "markdown",
   "metadata": {},
   "source": [
    "### 1. Data Exploration"
   ]
  },
  {
   "cell_type": "markdown",
   "metadata": {},
   "source": [
    "1.1. Hospital 1. Check If 'patient ID' and 'patient ID.1' are the same  "
   ]
  },
  {
   "cell_type": "code",
   "execution_count": null,
   "metadata": {},
   "outputs": [],
   "source": [
    "different_rows = hospital1[hospital1['patient ID'] != hospital1['patient ID.1']]\n",
    "\n",
    "if not different_rows.empty:\n",
    "    print(\"The following rows have different values between 'patient ID' and 'patient ID.1':\")\n",
    "    print(different_rows)\n",
    "    print(\"Total different rows: \" + str(len(different_rows)))\n",
    "else:\n",
    "    print(\"There are no rows with different values between 'patient ID' and 'patient ID.1'.\")"
   ]
  },
  {
   "cell_type": "markdown",
   "metadata": {},
   "source": [
    "1.1.1 Check date of first symptoms and BASVURUTARIHI (means application date in Turkish)"
   ]
  },
  {
   "cell_type": "code",
   "execution_count": null,
   "metadata": {},
   "outputs": [],
   "source": [
    "different_date_rows = hospital1[hospital1['date_of_first_symptoms'] != hospital1['BASVURUTARIHI']]\n",
    "\n",
    "if not different_date_rows.empty:\n",
    "    print(\"The following rows have different values between 'date_of_first_symptoms' and 'BASVURUTARIHI':\")\n",
    "    print(different_date_rows)\n",
    "    print(\"Total different date rows: \" + str(len(different_date_rows)))\n",
    "else:\n",
    "    print(\"There are no rows with different values between 'date_of_first_symptoms' and 'BASVURUTARIHI'.\")"
   ]
  },
  {
   "cell_type": "markdown",
   "metadata": {},
   "source": [
    "1.2 Hospital 2. Check if patients are admitted multiple times (same patient id different admission id) "
   ]
  },
  {
   "cell_type": "code",
   "execution_count": null,
   "metadata": {},
   "outputs": [],
   "source": [
    "# Find patient IDs with multiple admission IDs\n",
    "multiple_admissions = hospital2.groupby('patient_id')['admission_id'].nunique()\n",
    "\n",
    "# Filter to find patient IDs with more than one unique admission ID\n",
    "multiple_admissions = multiple_admissions[multiple_admissions > 1]\n",
    "\n",
    "if not multiple_admissions.empty:\n",
    "    print(\"The following patient IDs have multiple admission IDs:\")\n",
    "    print(multiple_admissions)\n",
    "    print('Total multiple admissions for one patient id, rows: ' + str(len(multiple_admissions))) \n",
    "else:\n",
    "    print(\"No patient has multiple admission IDs.\")"
   ]
  },
  {
   "cell_type": "markdown",
   "metadata": {},
   "source": [
    "1.3 Together \n",
    "    - Similar Rows\n",
    "    - Same rows in both datasets with different results  "
   ]
  },
  {
   "cell_type": "code",
   "execution_count": null,
   "metadata": {},
   "outputs": [],
   "source": [
    "# Define a similarity threshold\n",
    "similarity_threshold = 100\n",
    "\n",
    "# Find similar columns\n",
    "similar_columns = []\n",
    "for col1 in hospital1.columns:\n",
    "    for col2 in hospital2.columns:\n",
    "        similarity_score = fuzz.ratio(col1, col2)\n",
    "        if similarity_score >= similarity_threshold:\n",
    "            similar_columns.append((col1, col2, similarity_score))\n",
    "\n",
    "# Display results\n",
    "if similar_columns:\n",
    "    print(\"Columns with similar meanings:\")\n",
    "    for col1, col2, score in similar_columns:\n",
    "        print(f\"'{col1}' in hospital1 and '{col2}' in hospital2 with similarity score: {score}\")\n",
    "    print('Total columns with similar meanings: ' + str(len(similar_columns)))\n",
    "else:\n",
    "    print(\"No columns with similar meanings found.\")"
   ]
  },
  {
   "cell_type": "code",
   "execution_count": null,
   "metadata": {},
   "outputs": [],
   "source": [
    "# Define a similarity threshold\n",
    "similarity_threshold = 64\n",
    "\n",
    "# Find similar columns\n",
    "similar_columns = []\n",
    "for col1 in hospital1.columns:\n",
    "    for col2 in hospital2.columns:\n",
    "        similarity_score = fuzz.ratio(col1, col2)\n",
    "        if similarity_score >= similarity_threshold and similarity_score != 100:\n",
    "            similar_columns.append((col1, col2, similarity_score))\n",
    "\n",
    "# Display results\n",
    "if similar_columns:\n",
    "    print(\"Columns with similar meanings:\")\n",
    "    for col1, col2, score in similar_columns:\n",
    "        print(f\"'{col1}' in hospital1 and '{col2}' in hospital2 with similarity score: {score}\")\n",
    "    print('Total columns with similar meanings: ' + str(len(similar_columns)))\n",
    "else:\n",
    "    print(\"No columns with similar meanings found.\")\n"
   ]
  },
  {
   "cell_type": "markdown",
   "metadata": {},
   "source": [
    "1.4 Check all columns  \n",
    "    - Missing values  \n",
    "    - Null values  \n",
    "    - Inconsistencies  \n",
    "    - (Check slides for more) "
   ]
  },
  {
   "cell_type": "code",
   "execution_count": null,
   "metadata": {},
   "outputs": [],
   "source": [
    "# Count missing values in each column\n",
    "missing_values = hospital1.isnull().sum()\n",
    "print(\"Missing values per column:\")\n",
    "print(missing_values)"
   ]
  },
  {
   "cell_type": "code",
   "execution_count": null,
   "metadata": {},
   "outputs": [],
   "source": [
    "# Check if each column has any missing values\n",
    "missing_columns = hospital1.isnull().any()\n",
    "print(\"Columns with missing values:\")\n",
    "print(missing_columns[missing_columns])"
   ]
  },
  {
   "cell_type": "code",
   "execution_count": null,
   "metadata": {},
   "outputs": [],
   "source": [
    "# Find rows with any missing values\n",
    "rows_with_missing = hospital1[hospital1.isnull().any(axis=1)]\n",
    "print(\"Rows with missing values:\")\n",
    "print(rows_with_missing)"
   ]
  },
  {
   "cell_type": "code",
   "execution_count": null,
   "metadata": {},
   "outputs": [],
   "source": [
    "hospital1.info()"
   ]
  },
  {
   "cell_type": "code",
   "execution_count": null,
   "metadata": {},
   "outputs": [],
   "source": [
    "plt.figure(figsize=(20, 10))\n",
    "\n",
    "# Visualize missing values\n",
    "sns.heatmap(hospital1.isnull(), cbar=False, cmap=\"viridis\")\n",
    "plt.show()"
   ]
  },
  {
   "cell_type": "code",
   "execution_count": null,
   "metadata": {},
   "outputs": [],
   "source": [
    "# Count missing values in each column\n",
    "missing_values = hospital2.isnull().sum()\n",
    "print(\"Missing values per column:\")\n",
    "print(missing_values)"
   ]
  },
  {
   "cell_type": "code",
   "execution_count": null,
   "metadata": {},
   "outputs": [],
   "source": [
    "# Check if each column has any missing values\n",
    "missing_columns = hospital2.isnull().any()\n",
    "print(\"Columns with missing values:\")\n",
    "print(missing_columns[missing_columns])"
   ]
  },
  {
   "cell_type": "code",
   "execution_count": null,
   "metadata": {},
   "outputs": [],
   "source": [
    "# Find rows with any missing values\n",
    "rows_with_missing = hospital2[hospital2.isnull().any(axis=1)]\n",
    "print(\"Rows with missing values:\")\n",
    "print(rows_with_missing)"
   ]
  },
  {
   "cell_type": "code",
   "execution_count": null,
   "metadata": {},
   "outputs": [],
   "source": [
    "hospital2.info()"
   ]
  },
  {
   "cell_type": "code",
   "execution_count": null,
   "metadata": {},
   "outputs": [],
   "source": [
    "plt.figure(figsize=(20, 10))\n",
    "\n",
    "# Visualize missing values\n",
    "sns.heatmap(hospital2.isnull(), cbar=False, cmap=\"viridis\")\n",
    "plt.show()"
   ]
  },
  {
   "cell_type": "markdown",
   "metadata": {},
   "source": [
    "\n",
    "1.5 Create visualization  "
   ]
  },
  {
   "cell_type": "code",
   "execution_count": null,
   "metadata": {},
   "outputs": [],
   "source": [
    "# Count the number of positive and negative PCR results\n",
    "pcr_counts = hospital1['PCR_result'].value_counts()\n",
    "print(pcr_counts)\n",
    "\n",
    "# Create a bar plot to visualize PCR results\n",
    "plt.figure(figsize=(8, 6))\n",
    "pcr_counts.plot(kind='bar', color=['blue', 'red'])\n",
    "\n",
    "# Add titles and labels\n",
    "plt.title('PCR Test Results', fontsize=14)\n",
    "plt.xlabel('PCR Result', fontsize=12)\n",
    "plt.ylabel('Count', fontsize=12)\n",
    "plt.xticks(rotation=0)  # Rotate the x-axis labels for readability\n",
    "\n",
    "# Show the plot\n",
    "plt.show()"
   ]
  },
  {
   "cell_type": "code",
   "execution_count": null,
   "metadata": {},
   "outputs": [],
   "source": [
    "# Count the number of positive and negative PCR results\n",
    "pcr_counts = hospital2['PCR_result'].value_counts()\n",
    "print(pcr_counts)\n",
    "\n",
    "# Create a bar plot to visualize PCR results\n",
    "plt.figure(figsize=(8, 6))\n",
    "pcr_counts.plot(kind='bar', color=['blue', 'red'])\n",
    "\n",
    "# Add titles and labels\n",
    "plt.title('PCR Test Results', fontsize=14)\n",
    "plt.xlabel('PCR Result', fontsize=12)\n",
    "plt.ylabel('Count', fontsize=12)\n",
    "plt.xticks(rotation=0)  # Rotate the x-axis labels for readability\n",
    "\n",
    "# Show the plot\n",
    "plt.show()"
   ]
  },
  {
   "cell_type": "code",
   "execution_count": null,
   "metadata": {},
   "outputs": [],
   "source": [
    "# Example: Count plot for the nationality column\n",
    "plt.figure(figsize=(22, 2))\n",
    "sns.countplot(x='nationality', data=hospital1)\n",
    "plt.title('Distribution of Nationalities')\n",
    "plt.xticks(rotation=45, ha='right')  # Rotate labels for better readability\n",
    "plt.xlabel('Nationality')\n",
    "plt.ylabel('Count')\n",
    "plt.show()"
   ]
  },
  {
   "cell_type": "code",
   "execution_count": null,
   "metadata": {},
   "outputs": [],
   "source": [
    "# Example: Horizontal bar plot for nationality distribution\n",
    "hospital1_filtered = hospital1[hospital1['nationality'] != 'T.C.']\n",
    "nationality_counts = hospital1_filtered['nationality'].value_counts()\n",
    "\n",
    "plt.figure(figsize=(10, 18))\n",
    "sns.barplot(x=nationality_counts.values, y=nationality_counts.index)\n",
    "plt.title('Nationality Distribution (without T.C.)')\n",
    "plt.xlabel('Count')\n",
    "plt.ylabel('Nationality')\n",
    "plt.show()"
   ]
  },
  {
   "cell_type": "code",
   "execution_count": null,
   "metadata": {},
   "outputs": [],
   "source": [
    "# Box plot to visualize oxygen saturation\n",
    "plt.figure(figsize=(18, 4)) \n",
    "sns.boxplot(x=hospital1['oxygen_saturation'], color='lightgreen')\n",
    "plt.title('Box Plot of Oxygen Saturation')\n",
    "plt.xlabel('Oxygen Saturation (%)')\n",
    "plt.show()"
   ]
  },
  {
   "cell_type": "markdown",
   "metadata": {},
   "source": [
    "Ranges for Oxygen Saturation:\n",
    "- 95% to 100%: Normal\n",
    "- 90% to 94%: Mildly low (monitor, consult if persistent)\n",
    "- Below 90%: Hypoxemia (medical attention recommended)\n",
    "- Below 85%: Severe hypoxemia (urgent medical intervention required)"
   ]
  },
  {
   "cell_type": "code",
   "execution_count": null,
   "metadata": {},
   "outputs": [],
   "source": [
    "num_columns = hospital1.select_dtypes(include='number').columns  # Get numerical columns\n",
    "cat_columns = hospital1.select_dtypes(include='object').columns   # Get categorical columns\n",
    "\n",
    "print(\"numerical columns: \" + str(len(num_columns)))\n",
    "print(\"categorical columns: \" + str(len(cat_columns)))\n",
    "\n",
    "# Create plots for categorical columns\n",
    "plt.figure(figsize=(15, 10))\n",
    "for i, col in enumerate(cat_columns):\n",
    "    plt.subplot(2, len(cat_columns) // 2 + 1, i + 1)\n",
    "    sns.countplot(x=hospital1[col])  # Count plot for categorical variables\n",
    "    plt.title(f'Count of {col}')\n",
    "    plt.xticks(rotation=45)\n",
    "    plt.tight_layout()\n",
    "\n",
    "plt.show()"
   ]
  },
  {
   "cell_type": "code",
   "execution_count": null,
   "metadata": {},
   "outputs": [],
   "source": [
    "# Set up the plotting space for multiple plots\n",
    "num_columns = hospital1.select_dtypes(include='number').columns  # Get numerical columns\n",
    "\n",
    "# Create plots for numerical columns\n",
    "plt.figure(figsize=(40, 20))\n",
    "for i, col in enumerate(num_columns):\n",
    "    plt.subplot(4, len(num_columns) // 4 + 1, i + 1)  # Set a grid for subplots\n",
    "    sns.histplot(hospital1[col], kde=True, bins=20, color='skyblue')  # You can change this to other plots (e.g., boxplot)\n",
    "    plt.title(f'Distribution of {col}')\n",
    "    plt.tight_layout()  # To avoid overlapping subplots\n",
    "\n",
    "plt.show()"
   ]
  },
  {
   "cell_type": "code",
   "execution_count": null,
   "metadata": {},
   "outputs": [],
   "source": [
    "# Set up the plotting space for multiple plots\n",
    "num_columns = hospital1.select_dtypes(include='number').columns  # Get numerical columns\n",
    "\n",
    "# Create plots for numerical columns\n",
    "plt.figure(figsize=(40, 20))\n",
    "for i, col in enumerate(num_columns):\n",
    "    plt.subplot(4, len(num_columns) // 4 + 1, i + 1)  # Set a grid for subplots\n",
    "    sns.boxplot(x=hospital1[col], color='lightgreen')\n",
    "    plt.title(f'Box Plot of {col}')\n",
    "    plt.tight_layout()  # To avoid overlapping subplots\n",
    "\n",
    "plt.show()"
   ]
  },
  {
   "cell_type": "code",
   "execution_count": null,
   "metadata": {},
   "outputs": [],
   "source": [
    "num_columns_2 = hospital2.select_dtypes(include='number').columns  # Get numerical columns\n",
    "cat_columns_2 = hospital2.select_dtypes(include='object').columns   # Get categorical columns\n",
    "\n",
    "print(\"numerical columns: \" + str(len(num_columns_2)))\n",
    "print(\"categorical columns: \" + str(len(cat_columns_2)))\n",
    "\n",
    "# Create plots for categorical columns\n",
    "plt.figure(figsize=(15, 10))\n",
    "for i, col in enumerate(cat_columns_2):\n",
    "    plt.subplot(2, len(cat_columns_2) // 2 + 1, i + 1)\n",
    "    sns.countplot(x=hospital2[col])  # Count plot for categorical variables\n",
    "    plt.title(f'Count of {col}')\n",
    "    plt.xticks(rotation=45)\n",
    "    plt.tight_layout()\n",
    "\n",
    "plt.show()"
   ]
  },
  {
   "cell_type": "code",
   "execution_count": null,
   "metadata": {},
   "outputs": [],
   "source": [
    "# Set up the plotting space for multiple plots\n",
    "num_columns_2 = hospital2.select_dtypes(include='number').columns  # Get numerical columns\n",
    "\n",
    "# Create plots for numerical columns\n",
    "plt.figure(figsize=(40, 20))\n",
    "for i, col in enumerate(num_columns_2):\n",
    "    plt.subplot(4, len(num_columns_2) // 4 + 1, i + 1)  # Set a grid for subplots\n",
    "    sns.histplot(hospital2[col], kde=True, bins=20, color='skyblue')  # You can change this to other plots (e.g., boxplot)\n",
    "    plt.title(f'Distribution of {col}')\n",
    "    plt.tight_layout()  # To avoid overlapping subplots\n",
    "\n",
    "plt.show()"
   ]
  },
  {
   "cell_type": "code",
   "execution_count": null,
   "metadata": {},
   "outputs": [],
   "source": [
    "# Set up the plotting space for multiple plots\n",
    "num_columns_2 = hospital2.select_dtypes(include='number').columns  # Get numerical columns\n",
    "\n",
    "# Create plots for numerical columns\n",
    "plt.figure(figsize=(40, 20))\n",
    "for i, col in enumerate(num_columns_2):\n",
    "    plt.subplot(4, len(num_columns_2) // 4 + 1, i + 1)  # Set a grid for subplots\n",
    "    sns.boxplot(x=hospital2[col], color='lightgreen')\n",
    "    plt.title(f'Box Plot of {col}')\n",
    "    plt.tight_layout()  # To avoid overlapping subplots\n",
    "\n",
    "plt.show()"
   ]
  },
  {
   "cell_type": "markdown",
   "metadata": {},
   "source": [
    "### Descriptive analysis"
   ]
  },
  {
   "cell_type": "markdown",
   "metadata": {},
   "source": [
    "Columns with mising values:\n",
    "\n",
    "fever_temperature                \n",
    "oxygen_saturation                \n",
    "chronic_kidney_disease           \n",
    "obesity                          \n",
    "liver_disease                    \n",
    "asplenia                         \n",
    "chronic_neurological_disorder    \n",
    "chronic_hematologic_disease      \n",
    "AIDS_HIV                         \n",
    "diabetes_mellitus_type_1         \n",
    "diabetes_mellitus_type_2         \n",
    "rheumatologic_disorder           \n",
    "dementia                         \n",
    "PCR_result                       "
   ]
  },
  {
   "cell_type": "code",
   "execution_count": null,
   "metadata": {},
   "outputs": [],
   "source": [
    "mean_fever_temperature = hospital1['fever_temperature'].mean()\n",
    "print(\"Mean of the column fever_temperature: \", mean_fever_temperature)\n",
    "\n",
    "median_fever_temperature = hospital1['fever_temperature'].median()\n",
    "print(\"Median of the column fever_temperature: \", median_fever_temperature)\n",
    "\n",
    "min_fever_temperature = hospital1['fever_temperature'].min()\n",
    "print(\"Min of the column fever_temperature: \", min_fever_temperature)\n",
    "\n",
    "max_fever_temperature = hospital1['fever_temperature'].max()\n",
    "print(\"Max of the column fever_temperature: \", max_fever_temperature)\n"
   ]
  },
  {
   "cell_type": "code",
   "execution_count": null,
   "metadata": {},
   "outputs": [],
   "source": [
    "mean_oxygen_saturation = hospital1['oxygen_saturation'].mean()\n",
    "print(\"Mean of the column oxygen_saturation: \", mean_oxygen_saturation)\n",
    "\n",
    "median_oxygen_saturation = hospital1['oxygen_saturation'].median()\n",
    "print(\"Median of the column oxygen_saturation: \", median_oxygen_saturation)\n",
    "\n",
    "min_oxygen_saturation = hospital1['oxygen_saturation'].min()\n",
    "print(\"Min of the column oxygen_saturation: \", min_oxygen_saturation)\n",
    "\n",
    "max_oxygen_saturation = hospital1['oxygen_saturation'].max()\n",
    "print(\"Max of the column oxygen_saturation: \", max_oxygen_saturation)\n"
   ]
  },
  {
   "cell_type": "markdown",
   "metadata": {},
   "source": [
    "We can detect **outliers in oxygen_saturation** column."
   ]
  }
 ],
 "metadata": {
  "kernelspec": {
   "display_name": "new_env",
   "language": "python",
   "name": "python3"
  },
  "language_info": {
   "codemirror_mode": {
    "name": "ipython",
    "version": 3
   },
   "file_extension": ".py",
   "mimetype": "text/x-python",
   "name": "python",
   "nbconvert_exporter": "python",
   "pygments_lexer": "ipython3",
   "version": "3.9.13"
  }
 },
 "nbformat": 4,
 "nbformat_minor": 2
}
